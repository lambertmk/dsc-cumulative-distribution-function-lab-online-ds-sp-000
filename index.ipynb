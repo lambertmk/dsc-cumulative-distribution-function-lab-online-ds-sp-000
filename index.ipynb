{
 "cells": [
  {
   "cell_type": "markdown",
   "metadata": {},
   "source": [
    "# The Cumulative Distribution Function - Lab\n",
    "\n",
    "## Introduction\n",
    "\n",
    "In the previous lesson, you learned how you can create a cumulative distribution function for discrete and continuous random variables. In this lab, you'll try to calculate a CDF for a dice roll yourself, and visualize it.\n",
    "\n",
    "## Objectives\n",
    "You will be able to:\n",
    "\n",
    "* Calculate CDF in Python for a given discrete variable with a limited set of possible values\n",
    "* Visualize and inspect a CDF in order to make assumptions about the underlying data"
   ]
  },
  {
   "cell_type": "markdown",
   "metadata": {},
   "source": [
    "## Calculating CDF in Python \n",
    "\n",
    "Recall the formula to calculate the cumulative probability from the previous lesson:\n",
    "\n",
    "$$\\Large F(x)= P(X \\leq x)$$\n",
    "\n",
    "So given a list of all possible values of x, We can easily calculate the CDF for a given possible value $X$ by performing the following steps:\n",
    "\n",
    "* Build a function `calculate_cdf(lst,X)`, where `lst` is a list of all possible values in a discrete variable $x$ (6 values for a dice roll), and $X$ is the value for which we want to calculate the cumulative distribution function \n",
    "* Initialize a variable called `count`\n",
    "* For all values in `lst`, if a value is less than or equal to $X$, add one to `count` - do nothing otherwise. (this will tell us the total number of values less than $X$) \n",
    "* Calculate the cumulative probability of $X$ dividing `count` by the total number of possible values\n",
    "* Round by 3 decimals and return the cumulative probability of $X$\n"
   ]
  },
  {
   "cell_type": "code",
   "execution_count": 2,
   "metadata": {},
   "outputs": [
    {
     "data": {
      "text/plain": [
       "0.6667"
      ]
     },
     "execution_count": 2,
     "metadata": {},
     "output_type": "execute_result"
    }
   ],
   "source": [
    "def calculate_cdf(lst, X):\n",
    "    count = 0\n",
    "    for value in lst:\n",
    "        if value <= X:\n",
    "            count+= 1\n",
    "\n",
    "    cum_prob = count/len(lst)\n",
    "    return round(cum_prob,4)\n",
    "\n",
    "# test data\n",
    "test_lst = [1,2,3]\n",
    "test_X = 2\n",
    "\n",
    "calculate_cdf(test_lst, test_X)\n",
    "\n",
    "# 0.667"
   ]
  },
  {
   "cell_type": "markdown",
   "metadata": {},
   "source": [
    "Now, use this function to calculate a CDF for each value in a dice roll so you can plot it later on."
   ]
  },
  {
   "cell_type": "markdown",
   "metadata": {},
   "source": [
    "Perform the following steps in the cell below:\n",
    "* Create a list `dice_lst` with all possible values of a fair dice\n",
    "* Initialize an empty list `dice_cum` for storing cumulative probabilities for these values.\n",
    "* For each value in the `dice_lst` calculate its cumulative probability using the function above and store in `dice_cum` list. "
   ]
  },
  {
   "cell_type": "code",
   "execution_count": 3,
   "metadata": {},
   "outputs": [
    {
     "data": {
      "text/plain": [
       "[0.1667, 0.3333, 0.5, 0.6667, 0.8333, 1.0]"
      ]
     },
     "execution_count": 3,
     "metadata": {},
     "output_type": "execute_result"
    }
   ],
   "source": [
    "dice_lst = [1,2,3,4,5,6]\n",
    "dice_cum = []\n",
    "\n",
    "for X in dice_lst:\n",
    "    dice_cum.append(calculate_cdf(dice_lst, X))\n",
    "\n",
    "dice_cum\n",
    "\n",
    "# [0.167, 0.333, 0.5, 0.667, 0.833, 1.0]"
   ]
  },
  {
   "cell_type": "markdown",
   "metadata": {},
   "source": [
    "> CDFs are implemented with two sorted lists: one list which contains the potential outcome values of your discrete distribution, and another list which contains cumulative probabilities.\n",
    "\n",
    "Following this, we now have a list of possible values and a second list containing cumulative probabilities for each value. Let's go ahead and plot these values in matplotlib using a bar plot. \n",
    "* Use `dice_lst` for x-axis and `dice_cum` for y-axis"
   ]
  },
  {
   "cell_type": "code",
   "execution_count": 4,
   "metadata": {},
   "outputs": [
    {
     "data": {
      "image/png": "[encoded data removed]",
      "text/plain": [
       "<Figure size 432x288 with 1 Axes>"
      ]
     },
     "metadata": {},
     "output_type": "display_data"
    }
   ],
   "source": [
    "import matplotlib.pyplot as plt\n",
    "%matplotlib inline\n",
    "plt.style.use('ggplot')\n",
    "\n",
    "plt.bar(dice_lst, dice_cum);\n",
    "plt.title (\"Dice Roll - Cumulative Distribution\");\n",
    "plt.xlabel('Dice values')\n",
    "plt.ylabel('Cumulative Probabilities');"
   ]
  },
  {
   "cell_type": "markdown",
   "metadata": {},
   "source": [
    "## Level Up (optional)\n",
    "\n",
    "CDFs (and PMFs) can be calculated using built-in NumPy and matplotlib methods. So we don't have create custom functions to calculate these. We can draw a histogram styled CDF as shown below using the following steps\n",
    "\n",
    "You would need to perform these steps\n",
    "* Use `np.histogram()` to automatically calculate the histogram with probabilities. [Here is numpy histogram documentation](https://docs.scipy.org/doc/numpy/reference/generated/numpy.histogram.html) to help you dig deeper.\n",
    "\n",
    "* Use [`plt.scatter()`](https://matplotlib.org/api/_as_gen/matplotlib.pyplot.scatter.html) method with [`np.cumsum()`](https://docs.scipy.org/doc/numpy/reference/generated/numpy.cumsum.html) to calculate and plot cumulative probabilities (just like we did above). \n"
   ]
  },
  {
   "cell_type": "code",
   "execution_count": 3,
   "metadata": {},
   "outputs": [
    {
     "data": {
      "image/png": "[encoded data removed]",
      "text/plain": [
       "<Figure size 432x288 with 1 Axes>"
      ]
     },
     "metadata": {},
     "output_type": "display_data"
    }
   ],
   "source": [
    "# Your code here"
   ]
  },
  {
   "cell_type": "markdown",
   "metadata": {},
   "source": [
    "## Summary \n",
    "\n",
    "In this lesson, we looked at developing a CDF - a percentile function of a discrete random variable. We looked at how to calculate and visualize a CDF. This technique can also be applied to continuous random variables which we shall see later in this section. "
   ]
  }
 ],
 "metadata": {
  "kernelspec": {
   "display_name": "Python 3",
   "language": "python",
   "name": "python3"
  },
  "language_info": {
   "codemirror_mode": {
    "name": "ipython",
    "version": 3
   },
   "file_extension": ".py",
   "mimetype": "text/x-python",
   "name": "python",
   "nbconvert_exporter": "python",
   "pygments_lexer": "ipython3",
   "version": "3.7.4"
  },
  "toc": {
   "base_numbering": 1,
   "nav_menu": {},
   "number_sections": true,
   "sideBar": true,
   "skip_h1_title": false,
   "title_cell": "Table of Contents",
   "title_sidebar": "Contents",
   "toc_cell": false,
   "toc_position": {},
   "toc_section_display": true,
   "toc_window_display": false
  }
 },
 "nbformat": 4,
 "nbformat_minor": 2
}
